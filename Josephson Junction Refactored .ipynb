{
 "cells": [
  {
   "cell_type": "code",
   "execution_count": 4,
   "metadata": {
    "collapsed": false
   },
   "outputs": [
    {
     "ename": "ImportError",
     "evalue": "No module named 'kwant'",
     "output_type": "error",
     "traceback": [
      "\u001b[0;31m---------------------------------------------------------------------------\u001b[0m",
      "\u001b[0;31mImportError\u001b[0m                               Traceback (most recent call last)",
      "\u001b[0;32m<ipython-input-4-889cad95a26e>\u001b[0m in \u001b[0;36m<module>\u001b[0;34m()\u001b[0m\n\u001b[0;32m----> 1\u001b[0;31m \u001b[1;32mimport\u001b[0m \u001b[0mkwant\u001b[0m\u001b[1;33m\u001b[0m\u001b[0m\n\u001b[0m\u001b[1;32m      2\u001b[0m \u001b[1;32mimport\u001b[0m \u001b[0mmatplotlib\u001b[0m\u001b[1;33m.\u001b[0m\u001b[0mpyplot\u001b[0m \u001b[1;32mas\u001b[0m \u001b[0mplt\u001b[0m\u001b[1;33m\u001b[0m\u001b[0m\n\u001b[1;32m      3\u001b[0m \u001b[0mget_ipython\u001b[0m\u001b[1;33m(\u001b[0m\u001b[1;33m)\u001b[0m\u001b[1;33m.\u001b[0m\u001b[0mmagic\u001b[0m\u001b[1;33m(\u001b[0m\u001b[1;34m'matplotlib inline'\u001b[0m\u001b[1;33m)\u001b[0m\u001b[1;33m\u001b[0m\u001b[0m\n\u001b[1;32m      4\u001b[0m \u001b[1;32mimport\u001b[0m \u001b[0mscipy\u001b[0m\u001b[1;33m.\u001b[0m\u001b[0msparse\u001b[0m\u001b[1;33m.\u001b[0m\u001b[0mlinalg\u001b[0m \u001b[1;32mas\u001b[0m \u001b[0msla\u001b[0m\u001b[1;33m\u001b[0m\u001b[0m\n\u001b[1;32m      5\u001b[0m \u001b[1;32mimport\u001b[0m \u001b[0mnumpy\u001b[0m \u001b[1;32mas\u001b[0m \u001b[0mnp\u001b[0m\u001b[1;33m\u001b[0m\u001b[0m\n",
      "\u001b[0;31mImportError\u001b[0m: No module named 'kwant'"
     ]
    }
   ],
   "source": [
    "import kwant\n",
    "import matplotlib.pyplot as plt\n",
    "%matplotlib inline\n",
    "import scipy.sparse.linalg as sla\n",
    "import numpy as np\n",
    "import tinyarray\n",
    "import matplotlib.cm as cm\n",
    "import shelve\n",
    "import textmyself as tm\n",
    "from datetime import datetime as dt"
   ]
  },
  {
   "cell_type": "code",
   "execution_count": 26,
   "metadata": {
    "collapsed": true
   },
   "outputs": [],
   "source": [
    "# Pauli matrices\n",
    "s0 = tinyarray.array([[1, 0], [0, 1]])\n",
    "sx = tinyarray.array([[0, 1], [1, 0]])\n",
    "sy = tinyarray.array([[0, -1j], [1j, 0]])\n",
    "sz = tinyarray.array([[1, 0], [0, -1]])"
   ]
  },
  {
   "cell_type": "code",
   "execution_count": 27,
   "metadata": {
    "collapsed": true
   },
   "outputs": [],
   "source": [
    "class SimpleNamespace(object):\n",
    "    \"\"\"A simple container for parameters.\"\"\"\n",
    "    def __init__(self, **kwargs):\n",
    "        self.__dict__.update(kwargs)"
   ]
  },
  {
   "cell_type": "code",
   "execution_count": 28,
   "metadata": {
    "collapsed": false
   },
   "outputs": [],
   "source": [
    "#p = SimpleNamespace(d=1.0, t=1.0, dis=0, salt='', mu=1.9, \\\n",
    "                    #stripe_l=1.0, nrwires=13, gapratio=0.9)\n",
    "\"\"\"\n",
    " Parameters:\n",
    "    -----------\n",
    "    a : natural. \n",
    "        Lattice constant\n",
    "    W : natural. \n",
    "        Width of system in lattic points\n",
    "    L : natural. \n",
    "        Lenth of system in lattic points\n",
    "    mu : real. \n",
    "        Chemical potential\n",
    "    delta : real. \n",
    "        Superconducting gap\n",
    "    Vx: real.\n",
    "        Potential in x dir\n",
    "    Phase: real.\n",
    "        Phase of something???\n",
    "\"\"\"\n",
    "p = SimpleNamespace(a = 1, W = 20, L = 20, mu = 1.0, delta = 1.0, attach_leads = True, Vx = 0., phase = 0)"
   ]
  },
  {
   "cell_type": "code",
   "execution_count": 29,
   "metadata": {
    "collapsed": true
   },
   "outputs": [],
   "source": [
    "def onsite_e(p):\n",
    "    \"\"\"Onsite Hamiltonian element for electrons\"\"\"\n",
    "    return ((1/p.a**2 - p.mu) * s0 + p.Vx * sx)\n",
    "\n",
    "def onsite_h(p):\n",
    "    \"\"\"Onsite Hamiltonian element for holes\"\"\"\n",
    "    return (- (1/p.a**2 - p.mu) * s0 + p.Vx * sx)\n",
    "\n",
    "def hop_horz(p):\n",
    "    \"\"\"\"Horizontal hopping Hamiltonian element\"\"\"\n",
    "    return ((1j * sy)/(2*p.a) - s0/(2 * p.a**2))\n",
    "\n",
    "def hop_vert(p):\n",
    "    \"\"\"\"Vertical hopping Hamiltonian element\"\"\"\n",
    "    return (-1j * sx/(2 * p.a) - s0/(2 * p.a**2))\n",
    "\n",
    "def theta(x):\n",
    "    \"\"\"\"Theta function: returns 1 for x >=0, and 0 for x < 0\"\"\"\n",
    "    if x >=1:\n",
    "        return (1)\n",
    "    else:\n",
    "        return (0)\n",
    "    \n",
    "def supercond(p, i):\n",
    "    left_supercond = p.delta * theta(p.a* i - p.L) * s0\n",
    "    right_supercond = p.delta *  theta(-p.a * i + p.L) * (np.cos(p.phase) - 1j * np.sin(p.phase)) * s0\n",
    "    return(left_supercond + right_supercond)    "
   ]
  },
  {
   "cell_type": "code",
   "execution_count": 30,
   "metadata": {
    "collapsed": true
   },
   "outputs": [],
   "source": [
    "def make_modes_func(t, N_orb, W):\n",
    "    \"\"\"Construct lead modes.\n",
    "\n",
    "    Parameters:\n",
    "    -----------\n",
    "    t : real.\n",
    "        Hopping amplitude in the lead.\n",
    "    N_orb : integer.\n",
    "        Number of orbitals per site.\n",
    "    W : integer.\n",
    "        Number of sites connected to the lead.\n",
    "    \"\"\"\n",
    "    momenta = np.array([ np.sign(t) * np.pi / 2] * N_orb * W +\n",
    "                       [-np.sign(t) * np.pi / 2] * N_orb * W)\n",
    "    velocities = np.array([-2 * np.abs(t)] * N_orb * W +\n",
    "                          [ 2 * np.abs(t)] * N_orb * W)\n",
    "    wave_functions = np.array(np.bmat(\n",
    "        [[ 1/np.sqrt(np.abs(2 * t)) * np.eye(N_orb * W),\n",
    "           1/np.sqrt(np.abs(2 * t)) * np.eye(N_orb * W)]]))\n",
    "    prop_modes = kwant.physics.PropagatingModes(wave_functions,\n",
    "                                                velocities, momenta)\n",
    "\n",
    "    nmodes = N_orb * W\n",
    "    vecs = wave_functions\n",
    "    vecslmbdainv = t * np.dot(vecs,\n",
    "        np.diag([-1j * np.sign(t)] * N_orb * W +\n",
    "                [ 1j * np.sign(t)] * N_orb * W))\n",
    "    stab_modes = kwant.physics.StabilizedModes(vecs, vecslmbdainv, nmodes)\n",
    "\n",
    "    def modes_func(energy, args=[]):\n",
    "        return (prop_modes, stab_modes)\n",
    "\n",
    "    return modes_func"
   ]
  },
  {
   "cell_type": "code",
   "execution_count": 31,
   "metadata": {
    "collapsed": false
   },
   "outputs": [],
   "source": [
    "def rectangular_grid_hopping(L, W):\n",
    "    \"\"\"Produce a list of coordinates and hoppings for a rectangular grid of \n",
    "    width W and length L\n",
    "    Parameters:\n",
    "    -----------\n",
    "    L: Natural.\n",
    "        Length of grid.\n",
    "    W: Natural.\n",
    "        Width of grid.\n",
    "    Returns:\n",
    "    --------\n",
    "    coords: list.\n",
    "        List of discretized coordinates for our system.\n",
    "    hoppings: list.\n",
    "        List of possible hoppings from start coord to end coord\"\"\"\n",
    "    \n",
    "    coords = []\n",
    "    vert_hoppings = []\n",
    "    horz_hoppings = []\n",
    "    \n",
    "    for i in range(L):\n",
    "        for j in range(W):\n",
    "            coords.append([i, j])\n",
    "            if i > 0:\n",
    "                horz_hoppings.append([[i - 1, j], [i, j]])\n",
    "            if j > 0:\n",
    "                vert_hoppings.append([[i, j - 1], [i, j]])\n",
    "                            \n",
    "    return(coords, vert_hoppings, horz_hoppings)"
   ]
  },
  {
   "cell_type": "code",
   "execution_count": 32,
   "metadata": {
    "collapsed": true
   },
   "outputs": [],
   "source": [
    "def create_sys(leads=[]):\n",
    "    \"\"\"Construct a tight-binding model of a Josephson Junction.\n",
    "\n",
    "    Parameters:\n",
    "    -----------\n",
    "     leads : list.\n",
    "        List describing where and how many leads are attached to the system.\n",
    "        Can be empty or contain 'l', 'r', 't', 'b', corresponding to left,\n",
    "        right, top, and bottom leads, respectively.\n",
    "        \n",
    "    Returns:\n",
    "    --------\n",
    "    sys : <kwant.builder.FiniteSystem> object.\n",
    "        Finalized system.\n",
    "    \"\"\"\n",
    "    # gets list of coordinates on lattice and hopping coordinates as integers,\n",
    "    # e.g. coords[0] = [0.0, 0.0], hoppings[0] = [[0.0, 0.0], [0.05, 0.05]]\n",
    "    coords, vert_hoppings, horz_hoppings = rectangular_grid_hopping(p.L, p.W) # assumes lattice constant is 1, i.e. a == 1\n",
    "    \n",
    "    # this class allows us to turn our integer coordinates into the format\n",
    "    # kwant requires\n",
    "    class Lattice(kwant.builder.SiteFamily):\n",
    "        def __init__(self, coords, name='lattice'):\n",
    "            self.coords = coords\n",
    "            super(Lattice, self).__init__(name, \"\")\n",
    "\n",
    "        def normalize_tag(self, tag):\n",
    "            try:\n",
    "                tag = int(tag[0])\n",
    "            except:\n",
    "                raise KeyError\n",
    "\n",
    "            if 0 <= tag < len(coords):\n",
    "                return tag\n",
    "            else:\n",
    "                raise KeyError\n",
    "\n",
    "        def pos(self, tag):\n",
    "            return self.coords[tag]\n",
    "        \n",
    "    lat_e = Lattice(coords, name='e') # here we turns our coords into kwants coords format\n",
    "    lat_h = Lattice(coords, name='h')\n",
    "    sys = kwant.Builder() # initialize system\n",
    "    \n",
    "    for i in range(len(coords)):\n",
    "        # sets onsite energies for electrons and holes\n",
    "        sys[lat_e(i)] = onsite_e(p) \n",
    "        sys[lat_h(i)] = onsite_h(p) \n",
    "        sys[lat_e(i), lat_h(i)] = supercond(p, i)\n",
    "\n",
    "    for i in range(len(horz_hoppings)):\n",
    "        # sets horizontal hopping energies for electrons and holes\n",
    "        sys[lat_e(coords.index(horz_hoppings[i][0])),\n",
    "            lat_e(coords.index(horz_hoppings[i][1]))] =   hop_horz(p)\n",
    "        sys[lat_h(coords.index(horz_hoppings[i][0])),\n",
    "            lat_h(coords.index(horz_hoppings[i][1]))] = - hop_horz(p)\n",
    "        \n",
    "    for i in range(len(vert_hoppings)):\n",
    "        # sets vertical hopping energies for electrons and holes\n",
    "        sys[lat_e(coords.index(vert_hoppings[i][0])),\n",
    "            lat_e(coords.index(vert_hoppings[i][1]))] =   hop_vert(p)\n",
    "        sys[lat_h(coords.index(vert_hoppings[i][0])),\n",
    "            lat_h(coords.index(vert_hoppings[i][1]))] = - hop_vert(p)\n",
    "\n",
    "    left_sites = []\n",
    "    right_sites = []\n",
    "    top_sites = []\n",
    "    bot_sites = []\n",
    "    \n",
    "    # finds the coordinates that are left/right/top/bottom sites\n",
    "    for ind, c in enumerate(coords):\n",
    "        # !!! check the 0 and p.L/p.W - 1 \n",
    "        if c[0] == 0:\n",
    "            left_sites.append(ind)\n",
    "        if c[0] == p.L - 1:\n",
    "            right_sites.append(ind)\n",
    "\n",
    "\n",
    "    if 'l' in leads:\n",
    "        sites_left = [lat_e(i) for i in left_sites]\n",
    "        modes_func_left = make_modes_func(1, 2, len(left_sites))\n",
    "        lead_left = kwant.builder.ModesLead(modes_func_left, sites_left)\n",
    "        sys.leads.append(lead_left)\n",
    "        \n",
    "        sites_left = [lat_h(i) for i in left_sites]\n",
    "        modes_func_left = make_modes_func(1, 2, len(left_sites))\n",
    "        lead_left = kwant.builder.ModesLead(modes_func_left, sites_left)\n",
    "        sys.leads.append(lead_left)\n",
    "\n",
    "    if 'r' in leads:\n",
    "        sites_right = [lat_e(i) for i in right_sites]\n",
    "        modes_func_right = make_modes_func(1, 2, len(right_sites))\n",
    "        lead_right = kwant.builder.ModesLead(modes_func_right, sites_right)\n",
    "        sys.leads.append(lead_right)\n",
    "        \n",
    "        sites_right = [lat_h(i) for i in right_sites]\n",
    "        modes_func_right = make_modes_func(1, 2, len(right_sites))\n",
    "        lead_right = kwant.builder.ModesLead(modes_func_right, sites_right)\n",
    "        sys.leads.append(lead_right)\n",
    "\n",
    "    return sys.finalized()"
   ]
  },
  {
   "cell_type": "code",
   "execution_count": 35,
   "metadata": {
    "collapsed": true
   },
   "outputs": [],
   "source": [
    "\n",
    "# def create_sys():\n",
    "#     \"\"\"Construct a tight-binding model of a Josephson Junction.\n",
    "\n",
    "#     Parameters:\n",
    "#     -----------\n",
    "#      p: dict. \n",
    "#         Dictionary of args\n",
    "        \n",
    "#     Returns:\n",
    "#     --------\n",
    "#     sys : <kwant.builder.FiniteSystem> object.\n",
    "#         Finalized system.\n",
    "#     lat_e = kwant.lattice.square(p.a, name = 'e') #def e lat\n",
    "#     lat_h = kwant.lattice.square(p.a, name = 'h') #def h lat\n",
    "#     sys = kwant.Builder() \n",
    "#     for i in range(p.L): #itter horiz over sys(0 to L-1)a\n",
    "#         for j in range(p.W): #itter vert over sys (0 to W-1)\n",
    "#             sys[lat_e(i, j)] = on_site_e(p)\n",
    "#             sys[lat_h(i, j)] = on_site_h(p)\n",
    "#             sys[(lat_e(i, j), lat_h(i, j))] = supercond(p, i)\n",
    "#             if i > 0:\n",
    "#                 sys[(lat_e(i-1, j), lat_e(i, j))] =   hop_horz(p)\n",
    "#                 sys[(lat_h(i-1, j), lat_h(i, j))] = - hop_horz(p)\n",
    "#             if j > 0:\n",
    "#                 sys[(lat_e(i, j-1), lat_e(i, j))] =   hop_vert(p)\n",
    "#                 sys[(lat_h(i, j-1), lat_h(i, j))] = - hop_vert(p)\n",
    "# #Attach leads\n",
    "#     sym_left_lead  = kwant.TranslationalSymmetry((-p.a, 0))\n",
    "#     sym_right_lead = kwant.TranslationalSymmetry(( p.a, 0))\n",
    "#     left_lead  = kwant.Builder(sym_left_lead)\n",
    "#     right_lead = kwant.Builder(sym_right_lead)\n",
    "    \n",
    "#     for j in range(p.W):\n",
    "#         left_lead[lat_e(0, j)] = on_site_e(p)\n",
    "#         right_lead[lat_e(0, j)] = on_site_e(p)\n",
    "#         left_lead[ lat_h(0, j)] = on_site_h(p)\n",
    "#         right_lead[lat_h(0, j)] = on_site_h(p)\n",
    "#         if j > 0:\n",
    "#             left_lead[ lat_e(0, j - 1), lat_e(0, j)] = hop_vert(p)\n",
    "#             right_lead[lat_e(0, j - 1), lat_e(0, j)] = hop_vert(p)\n",
    "#             left_lead[ lat_h(0, j - 1), lat_h(0, j)] = - hop_vert(p)\n",
    "#             right_lead[lat_h(0, j - 1), lat_h(0, j)] = - hop_vert(p)\n",
    "#         left_lead[ lat_e(0, j), lat_e(1, j)] = hop_horz(p)        \n",
    "#         right_lead[lat_e(0, j), lat_e(1, j)] = hop_horz(p)\n",
    "#         left_lead[ lat_h(0, j), lat_h(1, j)] = - hop_horz(p)        \n",
    "#         right_lead[lat_h(0, j), lat_h(1, j)] = - hop_horz(p)\n",
    "        \n",
    "#     if p.attach_leads:  \n",
    "#         sys.attach_lead(left_lead)\n",
    "#         sys.attach_lead(right_lead)\n",
    "# #Pass the finalized system to a solver\n",
    "#     sys = sys.finalized()\n",
    "#     return sys    "
   ]
  },
  {
   "cell_type": "code",
   "execution_count": 36,
   "metadata": {
    "collapsed": false
   },
   "outputs": [],
   "source": [
    "#kwant.plot(create_sys())"
   ]
  },
  {
   "cell_type": "code",
   "execution_count": 37,
   "metadata": {
    "collapsed": true
   },
   "outputs": [],
   "source": [
    "def plot_conductance(sys, energies):\n",
    "    # Compute conductance\n",
    "    data = []\n",
    "    for energy in energies:\n",
    "        smatrix = kwant.smatrix(sys, energy)\n",
    "        data.append(smatrix.transmission(2, 0) + smatrix.transmission(1, 3))\n",
    "\n",
    "    plt.figure()\n",
    "    plt.plot(energies, data)\n",
    "    plt.xlabel(\"energy [t]\")\n",
    "    plt.ylabel(\"conductance [e^2/h]\")\n",
    "    plt.show()\n",
    "    "
   ]
  },
  {
   "cell_type": "code",
   "execution_count": 38,
   "metadata": {
    "collapsed": false
   },
   "outputs": [],
   "source": [
    "# p.delta = 0.01\n",
    "# sys = create_sys()\n",
    "# energies = np.linspace(-0.5, 0.5, 100)\n",
    "# plot_conductance(sys, energies)"
   ]
  },
  {
   "cell_type": "code",
   "execution_count": 39,
   "metadata": {
    "collapsed": false
   },
   "outputs": [],
   "source": [
    "# p.W=10\n",
    "# p.delta=0.01\n",
    "# sys = create_sys(['r', 'l'])\n",
    "\n",
    "# energies = np.linspace(-0.5, 0.5, 100)\n",
    "# plot_conductance(sys, energies)"
   ]
  },
  {
   "cell_type": "code",
   "execution_count": 40,
   "metadata": {
    "collapsed": false
   },
   "outputs": [],
   "source": [
    "def get_detr(sys, energy):\n",
    "    \"\"\"Compute the determinant of the reflection block.\n",
    "\n",
    "    Parameters:\n",
    "    -----------\n",
    "    sys : <kwant.builder.FiniteSystem> object.\n",
    "        Finalized system, as returned by create_sys().\n",
    "\n",
    "    Returns:\n",
    "    --------\n",
    "    detr : real.\n",
    "        Determinant of the reflection block, assuming only two leads\n",
    "        are attached.\n",
    "    \"\"\"\n",
    "    smatrix = kwant.smatrix(sys, energy = energy)\n",
    "    n, m = smatrix.data.shape\n",
    "    rblock = np.asmatrix(smatrix.data[:n//2, :m//2])\n",
    "    detr = np.linalg.det(rblock)\n",
    "    return detr.real"
   ]
  },
  {
   "cell_type": "code",
   "execution_count": 41,
   "metadata": {
    "collapsed": true
   },
   "outputs": [],
   "source": [
    "def evaluate_C0(murange, deltarange, potentialrange):\n",
    "    list_c0   = []\n",
    "    list_detr = []\n",
    "    for mu in murange:\n",
    "        for delta in deltarange:\n",
    "            for potential in potentialrange:\n",
    "                c0 = mu**2 + delta**2 - potential**2\n",
    "                p.W = 1\n",
    "                p.delta = delta\n",
    "                p.Vx = potential\n",
    "                p.mu = mu\n",
    "                detr = get_detr(create_sys([\"l\", \"r\"]), energy = 0)\n",
    "                list_c0.append(c0)\n",
    "                list_detr.append(detr)\n",
    "                \n",
    "    plt.ylabel(\"Topological = 1, Trivial = 0\")\n",
    "    plt.xlabel(\"C0\")\n",
    "    plt.title(\"Topological vs C0\", y = 1.04)\n",
    "    plt.scatter(list_c0, list_detr)\n",
    "    plt.show()\n",
    "    \n",
    "    "
   ]
  },
  {
   "cell_type": "code",
   "execution_count": 56,
   "metadata": {
    "collapsed": false
   },
   "outputs": [
    {
     "data": {
      "image/png": "[encoded data removed]",
      "text/plain": [
       "<matplotlib.figure.Figure at 0x99b9ac8>"
      ]
     },
     "metadata": {},
     "output_type": "display_data"
    }
   ],
   "source": [
    "p.L=200\n",
    "murange = np.linspace(0.0, 0.05, 5)\n",
    "deltarange = np.linspace(0.01, 0.05, 5)\n",
    "potentialrange = np.linspace(0., 0.2, 21)\n",
    "evaluate_C0(murange, deltarange, potentialrange)"
   ]
  },
  {
   "cell_type": "code",
   "execution_count": 42,
   "metadata": {
    "collapsed": true
   },
   "outputs": [],
   "source": [
    "def phase_diagram_data(murange, potentialrange, name, W, delta):\n",
    "    start = dt.now()\n",
    "    phase_realisations = []\n",
    "    p.W = W\n",
    "    p.delta = delta\n",
    "    for i, potential in enumerate(potentialrange):\n",
    "        phase_realisations.append([])\n",
    "        for j, mu in enumerate(murange):\n",
    "            p.Vx = potential\n",
    "            p.mu = mu\n",
    "            detr = get_detr(create_sys([\"l\", \"r\"]), energy = 0)\n",
    "            phase_realisations[i].append(detr)\n",
    "#             if  0 <= detr <= 1 :                                                 \n",
    "#                 phase_realisations[i].append(1)\n",
    "#             else:\n",
    "#                 phase_realisations[i].append(0)\n",
    "    end = dt.now()\n",
    "    howLong = (end - start).seconds / 60\n",
    "    shelfFile = shelve.open('Phase Diagram Data')\n",
    "    shelfFile[name] = (murange, potentialrange, phase_realisations)\n",
    "    shelfFile.close()\n",
    "#     tm.sendText(\"\\nRan phase_diagram_data() for %s\\nTime taken: %r min\" % (name, howLong))\n",
    "    \n",
    "#     extent=[longitude_top_left,longitude_top_right,latitude_bottom_left,latitude_top_left]"
   ]
  },
  {
   "cell_type": "code",
   "execution_count": 49,
   "metadata": {
    "collapsed": true
   },
   "outputs": [],
   "source": [
    "def plot_phase_diagram(murange, potentialrange, phase_realisations):\n",
    "    plt.ylabel(\"Vx\")\n",
    "    plt.xlabel(\"Mu\")\n",
    "    plt.title(\"Phase diagram of Josephson Junction\", y = 1.04)\n",
    "    plt.imshow(phase_realisations, extent = (murange.min(), murange.max(), potentialrange.max(), \\\n",
    "                                      potentialrange.min()),cmap = cm.binary)"
   ]
  },
  {
   "cell_type": "code",
   "execution_count": 50,
   "metadata": {
    "collapsed": false
   },
   "outputs": [],
   "source": [
    "murange = np.linspace(0.0, 1., 50)\n",
    "potentialrange = np.linspace(0.0, 1., 50)\n",
    "\n",
    "# # for i in range(2, 3):\n",
    "# W = 2\n",
    "# print(W)\n",
    "# name = \"Width of %s - Narrow View\" % (str(W))\n",
    "# phase_diagram_data(murange, potentialrange, name, W, 0.05)\n",
    "\n",
    "# murange = np.linspace(0.0, 2., 50)\n",
    "# potentialrange = np.linspace(0.0, 2., 50)\n",
    "# name = '1'\n",
    "# phase_diagram_data(murange, potentialrange, name, W, 0.05)"
   ]
  },
  {
   "cell_type": "code",
   "execution_count": 51,
   "metadata": {
    "collapsed": true
   },
   "outputs": [],
   "source": [
    "def normalize(data):\n",
    "    minData = -1.0\n",
    "    maxData =  1.0\n",
    "    newData = []\n",
    "    for i, d1 in enumerate(data):\n",
    "        newData.append([])\n",
    "        for d2 in d1:\n",
    "            normalizedD2 = (d2 - minData)/(maxData - minData)\n",
    "            newData[i].append(normalizedD2)\n",
    "    return newData"
   ]
  },
  {
   "cell_type": "code",
   "execution_count": 81,
   "metadata": {
    "collapsed": false
   },
   "outputs": [
    {
     "data": {
      "image/png": "[encoded data removed]",
      "text/plain": [
       "<matplotlib.figure.Figure at 0x8a636d8>"
      ]
     },
     "metadata": {},
     "output_type": "display_data"
    }
   ],
   "source": [
    "shelfFile = shelve.open('Phase Diagram Data')\n",
    "data = shelfFile['Width of 2']\n",
    "murange, potentialrange, phase_realisations = data\n",
    "plot_phase_diagram(murange, potentialrange, phase_realisations)\n",
    "shelfFile.close()\n",
    "# Topological = Black\n",
    "# Trivial = White"
   ]
  },
  {
   "cell_type": "code",
   "execution_count": 72,
   "metadata": {
    "collapsed": false
   },
   "outputs": [
    {
     "data": {
      "image/png": "[encoded data removed]",
      "text/plain": [
       "<matplotlib.figure.Figure at 0x8a695c0>"
      ]
     },
     "metadata": {},
     "output_type": "display_data"
    }
   ],
   "source": [
    "shelfFile = shelve.open('Phase Diagram Data')\n",
    "data = shelfFile['Width of 4']\n",
    "murange, potentialrange, phase_realisations = data\n",
    "plot_phase_diagram(murange, potentialrange, phase_realisations)\n",
    "shelfFile.close()\n",
    "# Topological = Black\n",
    "# Trivial = White"
   ]
  },
  {
   "cell_type": "code",
   "execution_count": 54,
   "metadata": {
    "collapsed": false
   },
   "outputs": [
    {
     "name": "stdout",
     "output_type": "stream",
     "text": [
      "3.7037037037037033\n"
     ]
    },
    {
     "data": {
      "text/plain": [
       "-0.48470405978336489"
      ]
     },
     "execution_count": 54,
     "metadata": {},
     "output_type": "execute_result"
    }
   ],
   "source": [
    "p.W = 4\n",
    "p.L = 200\n",
    "p.delta = 0.05\n",
    "p.mu = 0.3\n",
    "p.Vx = 0.54\n",
    "print(2.0/0.54)\n",
    "\n",
    "sys = create_sys(['r', 'l'])\n",
    "get_detr(sys, 0)"
   ]
  },
  {
   "cell_type": "code",
   "execution_count": 1,
   "metadata": {
    "collapsed": false
   },
   "outputs": [
    {
     "data": {
      "text/plain": [
       "'\\nThis function plots how the eigenvalues of the system change as we change the hoppoing potential\\n'"
      ]
     },
     "execution_count": 1,
     "metadata": {},
     "output_type": "execute_result"
    }
   ],
   "source": [
    "def plot_energies(trange, mu, delta, W, L):\n",
    "    \n",
    "    ev = sla.eigsh(create_sys(['r', 'l']), k=8, which='SM', return_eigenvectors=False, maxiter=100000) #which = what energy levels to return\n",
    "                                                # SM = smallest absolute value, i.e. closest to 0, maxiter = ???, k = 8 ???\n",
    "\n",
    "    energies = []\n",
    "    \n",
    "    for t in trange:\n",
    "        \n",
    "        energies.append(np.sort(energy(t,delta, mu, W, L)))\n",
    "\n",
    "    plt.figure()\n",
    "    plt.xlabel('Hopping potential')\n",
    "    plt.ylabel('Energy')\n",
    "    plt.title('How energy states vary with hopping potential in a quantum wire', y=1.02)\n",
    "    plt.plot(trange, energies)\n",
    "    plt.show()\n",
    "    \n",
    "\"\"\"\n",
    "This function plots how the eigenvalues of the system change as we change the hoppoing potential\n",
    "\"\"\""
   ]
  },
  {
   "cell_type": "code",
   "execution_count": 2,
   "metadata": {
    "collapsed": false
   },
   "outputs": [
    {
     "ename": "NameError",
     "evalue": "name 'np' is not defined",
     "output_type": "error",
     "traceback": [
      "\u001b[0;31m---------------------------------------------------------------------------\u001b[0m",
      "\u001b[0;31mNameError\u001b[0m                                 Traceback (most recent call last)",
      "\u001b[0;32m<ipython-input-2-f800670df952>\u001b[0m in \u001b[0;36m<module>\u001b[0;34m()\u001b[0m\n\u001b[0;32m----> 1\u001b[0;31m \u001b[0mtrange\u001b[0m \u001b[1;33m=\u001b[0m \u001b[0mnp\u001b[0m\u001b[1;33m.\u001b[0m\u001b[0mlinspace\u001b[0m\u001b[1;33m(\u001b[0m\u001b[1;36m0.1\u001b[0m\u001b[1;33m,\u001b[0m \u001b[1;36m2.0\u001b[0m\u001b[1;33m,\u001b[0m \u001b[1;36m10\u001b[0m\u001b[1;33m)\u001b[0m\u001b[1;33m\u001b[0m\u001b[0m\n\u001b[0m\u001b[1;32m      2\u001b[0m \u001b[1;31m#plot_energies(trange, mu, delta, W, L)\u001b[0m\u001b[1;33m\u001b[0m\u001b[1;33m\u001b[0m\u001b[0m\n\u001b[1;32m      3\u001b[0m \u001b[0mplot_energies\u001b[0m\u001b[1;33m(\u001b[0m\u001b[0mtrange\u001b[0m\u001b[1;33m,\u001b[0m \u001b[1;36m1.\u001b[0m\u001b[1;33m,\u001b[0m \u001b[1;36m1.0\u001b[0m\u001b[1;33m,\u001b[0m \u001b[1;36m2\u001b[0m\u001b[1;33m,\u001b[0m \u001b[1;36m100\u001b[0m\u001b[1;33m)\u001b[0m\u001b[1;33m\u001b[0m\u001b[0m\n",
      "\u001b[0;31mNameError\u001b[0m: name 'np' is not defined"
     ]
    }
   ],
   "source": [
    "trange = np.linspace(0.1, 2.0, 10)\n",
    "#plot_energies(trange, mu, delta, W, L)\n",
    "plot_energies(trange, 1., 1.0, 2, 100)"
   ]
  },
  {
   "cell_type": "code",
   "execution_count": null,
   "metadata": {
    "collapsed": true
   },
   "outputs": [],
   "source": []
  }
 ],
 "metadata": {
  "anaconda-cloud": {},
  "kernelspec": {
   "display_name": "Python [default]",
   "language": "python",
   "name": "python3"
  },
  "language_info": {
   "codemirror_mode": {
    "name": "ipython",
    "version": 3
   },
   "file_extension": ".py",
   "mimetype": "text/x-python",
   "name": "python",
   "nbconvert_exporter": "python",
   "pygments_lexer": "ipython3",
   "version": "3.5.2"
  }
 },
 "nbformat": 4,
 "nbformat_minor": 0
}
