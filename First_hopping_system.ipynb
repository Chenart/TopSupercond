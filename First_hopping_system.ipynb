{
 "cells": [
  {
   "cell_type": "code",
   "execution_count": 1,
   "metadata": {
    "collapsed": false
   },
   "outputs": [],
   "source": [
    "def f(x):\n",
    "    return x**2"
   ]
  },
  {
   "cell_type": "code",
   "execution_count": 2,
   "metadata": {
    "collapsed": false,
    "scrolled": true
   },
   "outputs": [
    {
     "data": {
      "text/plain": [
       "64"
      ]
     },
     "execution_count": 2,
     "metadata": {},
     "output_type": "execute_result"
    }
   ],
   "source": [
    "f(8)"
   ]
  },
  {
   "cell_type": "code",
   "execution_count": 3,
   "metadata": {
    "collapsed": false
   },
   "outputs": [],
   "source": [
    "import kwant\n",
    "import matplotlib.pyplot as pyplot\n",
    "%matplotlib inline\n",
    "import scipy.sparse.linalg as sla\n",
    "import numpy as np"
   ]
  },
  {
   "cell_type": "code",
   "execution_count": 13,
   "metadata": {
    "collapsed": false
   },
   "outputs": [],
   "source": [
    "sys = kwant.Builder() #create the system, but it's empty"
   ]
  },
  {
   "cell_type": "code",
   "execution_count": 14,
   "metadata": {
    "collapsed": false
   },
   "outputs": [],
   "source": [
    "a = 0.25 #distance between the sites (lattice constant)\n",
    "lat = kwant.lattice.square(a) #defines the lattice"
   ]
  },
  {
   "cell_type": "code",
   "execution_count": 15,
   "metadata": {
    "collapsed": false
   },
   "outputs": [],
   "source": [
    "W = 2 #width of the system\n",
    "L = 10 #length of the system"
   ]
  },
  {
   "cell_type": "code",
   "execution_count": 16,
   "metadata": {
    "collapsed": false
   },
   "outputs": [],
   "source": [
    "mu = 0. #chemical potential\n",
    "t = 1. #hopping"
   ]
  },
  {
   "cell_type": "code",
   "execution_count": 17,
   "metadata": {
    "collapsed": false
   },
   "outputs": [],
   "source": [
    "for i in range(L):#itteration over the size of the system (0--L-1)\n",
    "    for j in range(W):\n",
    "        sys[lat(i, j)] = mu #on-site Hamiltonian ($a_{i,j}^\\dag a_{i,j}*mu$)\n",
    "        if i>0:\n",
    "            sys[(lat(i-1, j), lat(i, j))] = t #adding hopping ($a_{i-1,j}^\\dag a_{i,j}*t$)\n",
    "        if j>0:\n",
    "            sys[(lat(i, j-1), lat(i, j))] = t #adding hopping ($a_{i,j-1}^\\dag a_{i,j}*t$)"
   ]
  },
  {
   "cell_type": "code",
   "execution_count": 18,
   "metadata": {
    "collapsed": false
   },
   "outputs": [
    {
     "data": {
      "image/png": "[encoded data removed]",
      "text/plain": [
       "<matplotlib.figure.Figure at 0x8321048>"
      ]
     },
     "metadata": {},
     "output_type": "display_data"
    },
    {
     "data": {
      "image/png": "[encoded data removed]",
      "text/plain": [
       "<matplotlib.figure.Figure at 0x8321048>"
      ]
     },
     "execution_count": 18,
     "metadata": {},
     "output_type": "execute_result"
    }
   ],
   "source": [
    "kwant.plot(sys.finalized())#plots finalized system"
   ]
  },
  {
   "cell_type": "code",
   "execution_count": 26,
   "metadata": {
    "collapsed": false
   },
   "outputs": [],
   "source": [
    "def energy(delta, mu, W, L):\n",
    "    sys = kwant.Builder()\n",
    "    a = 1\n",
    "    lat = kwant.lattice.square(a)\n",
    "    for i in range(L):\n",
    "        for j in range(W):\n",
    "            sys[lat(i, j)] = mu\n",
    "            if i>0:\n",
    "                sys[(lat(i-1, j), lat(i, j))] = delta\n",
    "            if j>0:\n",
    "                sys[(lat(i, j-1), lat(i, j))] = delta\n",
    "    ham_mat = sys.finalized().hamiltonian_submatrix(sparse=True)\n",
    "    ev = sla.eigsh(ham_mat, k=5, which='SA', return_eigenvectors=False)\n",
    "    return ev"
   ]
  },
  {
   "cell_type": "code",
   "execution_count": 27,
   "metadata": {
    "collapsed": false
   },
   "outputs": [
    {
     "data": {
      "text/plain": [
       "array([-1.81898595, -1.58250707, -1.20972147, -0.73083003, -0.18462968])"
      ]
     },
     "execution_count": 27,
     "metadata": {},
     "output_type": "execute_result"
    }
   ],
   "source": [
    "np.sort(energy(1, 0.1, 1, 10)) "
   ]
  },
  {
   "cell_type": "code",
   "execution_count": 28,
   "metadata": {
    "collapsed": false
   },
   "outputs": [],
   "source": [
    "def plot_energies(trange, mu, W, L):\n",
    "\n",
    "    energies = []\n",
    "    \n",
    "    for delta in trange:\n",
    "        \n",
    "        energies.append(np.sort(energy(delta, mu, W, L)))\n",
    "\n",
    "    pyplot.figure()\n",
    "    pyplot.plot(trange, energies)\n",
    "    pyplot.show()\n"
   ]
  },
  {
   "cell_type": "code",
   "execution_count": 29,
   "metadata": {
    "collapsed": false
   },
   "outputs": [],
   "source": [
    "trange = np.linspace(0.1, 2.0, 100)\n",
    "plot_energies(trange, 0.1, 1, 100)#array of delta's, mu, W, L"
   ]
  },
  {
   "cell_type": "code",
   "execution_count": 2,
   "metadata": {
    "collapsed": false
   },
   "outputs": [
    {
     "ename": "NameError",
     "evalue": "name 'kwant' is not defined",
     "output_type": "error",
     "traceback": [
      "\u001b[1;31m---------------------------------------------------------------------------\u001b[0m",
      "\u001b[1;31mNameError\u001b[0m                                 Traceback (most recent call last)",
      "\u001b[1;32m<ipython-input-2-e31479523892>\u001b[0m in \u001b[0;36m<module>\u001b[1;34m()\u001b[0m\n\u001b[1;32m----> 1\u001b[1;33m \u001b[0msys\u001b[0m \u001b[1;33m=\u001b[0m \u001b[0mkwant\u001b[0m\u001b[1;33m.\u001b[0m\u001b[0mBuilder\u001b[0m\u001b[1;33m(\u001b[0m\u001b[1;33m)\u001b[0m \u001b[1;31m#create the system, but it's empty\u001b[0m\u001b[1;33m\u001b[0m\u001b[0m\n\u001b[0m\u001b[0;32m      2\u001b[0m \u001b[0ma\u001b[0m \u001b[1;33m=\u001b[0m \u001b[1;36m0.25\u001b[0m \u001b[1;31m#distance between the sites (lattice constant)\u001b[0m\u001b[1;33m\u001b[0m\u001b[0m\n\u001b[0;32m      3\u001b[0m \u001b[0mlat\u001b[0m \u001b[1;33m=\u001b[0m \u001b[0mkwant\u001b[0m\u001b[1;33m.\u001b[0m\u001b[0mlattice\u001b[0m\u001b[1;33m.\u001b[0m\u001b[0msquare\u001b[0m\u001b[1;33m(\u001b[0m\u001b[0ma\u001b[0m\u001b[1;33m)\u001b[0m \u001b[1;31m#defines the lattice\u001b[0m\u001b[1;33m\u001b[0m\u001b[0m\n\u001b[0;32m      4\u001b[0m \u001b[0mW\u001b[0m \u001b[1;33m=\u001b[0m \u001b[1;36m2\u001b[0m \u001b[1;31m#width of the system\u001b[0m\u001b[1;33m\u001b[0m\u001b[0m\n\u001b[0;32m      5\u001b[0m \u001b[0mL\u001b[0m \u001b[1;33m=\u001b[0m \u001b[1;36m10\u001b[0m \u001b[1;31m#length of the system\u001b[0m\u001b[1;33m\u001b[0m\u001b[0m\n",
      "\u001b[1;31mNameError\u001b[0m: name 'kwant' is not defined"
     ]
    }
   ],
   "source": [
    "sys = kwant.Builder() #create the system, but it's empty\n",
    "a = 0.25 #distance between the sites (lattice constant)\n",
    "lat = kwant.lattice.square(a) #defines the lattice\n",
    "W = 2 #width of the system\n",
    "L = 10 #length of the system"
   ]
  },
  {
   "cell_type": "code",
   "execution_count": 7,
   "metadata": {
    "collapsed": true
   },
   "outputs": [],
   "source": [
    "#CASE 1: mu=0,t!=0\n",
    "mu = 0. #chemical potential\n",
    "delta = 1. #delta\n",
    "t = 1. #hopping"
   ]
  },
  {
   "cell_type": "code",
   "execution_count": 8,
   "metadata": {
    "collapsed": false
   },
   "outputs": [],
   "source": [
    "for i in range(L):#itteration over the size of the system (0--L-1)\n",
    "    for j in range(W):\n",
    "        if j==0:\n",
    "            sys[lat(i, j)] = mu #on-site Hamiltonian ($a_{i,j}^\\dag a_{i,j}*mu$) \n",
    "        elif j==1:\n",
    "            sys[lat(i, j)] = -mu #on-site Hamiltonian ($a_{i,j}^\\dag a_{i,j}*mu$) \n",
    "        if j>0 and i>0:\n",
    "            sys[(lat(i-1, j-1), lat(i, j))] = delta #adding hopping ($a_{i-1,j-1}^\\dag a_{i,j}*t$)\n",
    "            sys[(lat(i-1, j), lat(i, j-1))] = -delta #adding hopping ($a_{i-1,j}^\\dag a_{i,j-1}*t$)"
   ]
  },
  {
   "cell_type": "code",
   "execution_count": 9,
   "metadata": {
    "collapsed": false
   },
   "outputs": [
    {
     "data": {
      "image/png": "[encoded data removed]",
      "text/plain": [
       "<matplotlib.figure.Figure at 0x8154cc0>"
      ]
     },
     "metadata": {},
     "output_type": "display_data"
    },
    {
     "data": {
      "image/png": "[encoded data removed]",
      "text/plain": [
       "<matplotlib.figure.Figure at 0x8154cc0>"
      ]
     },
     "execution_count": 9,
     "metadata": {},
     "output_type": "execute_result"
    }
   ],
   "source": [
    "kwant.plot(sys.finalized())#plots finalized system"
   ]
  },
  {
   "cell_type": "code",
   "execution_count": 44,
   "metadata": {
    "collapsed": false
   },
   "outputs": [],
   "source": [
    "def energy(delta, t, mu, W, L):\n",
    "    sys = kwant.Builder()\n",
    "    a = 1\n",
    "    lat = kwant.lattice.square(a)\n",
    "    for i in range(L):#itteration over the size of the system (0--L-1)\n",
    "        for j in range(W):\n",
    "            if j==0:\n",
    "                sys[lat(i, j)] = mu #on-site Hamiltonian ($a_{i,j}^\\dag a_{i,j}*mu$) \n",
    "            elif j==1:\n",
    "                sys[lat(i, j)] = -mu #on-site Hamiltonian ($a_{i,j}^\\dag a_{i,j}*mu$) \n",
    "            if i>0:\n",
    "                sys[(lat(i-1, j), lat(i, j))] = t #horizontal hopping ($a_{i-1,j}^\\dag a_{i,j}*t$)\n",
    "                if j>0:\n",
    "                    sys[(lat(i-1, j-1), lat(i, j))] = delta # superconducting gap ($a_{i-1,j-1}^\\dag a_{i,j}*t$)\n",
    "                    sys[(lat(i-1, j), lat(i, j-1))] = -delta # superconducting gap ($a_{i-1,j}^\\dag a_{i,j-1}*t$)\n",
    "                    sys[(lat(i-1, j), lat(i, j))] = -t #horizontal hopping ($a_{i-1,j}^\\dag a_{i,j}*t$)\n",
    "                \n",
    "    ham_mat = sys.finalized().hamiltonian_submatrix(sparse=True)\n",
    "    ev = sla.eigsh(ham_mat, k=8, which='SM', return_eigenvectors=True, maxiter=100000)\n",
    "    return ev"
   ]
  },
  {
   "cell_type": "code",
   "execution_count": 45,
   "metadata": {
    "collapsed": false
   },
   "outputs": [
    {
     "data": {
      "text/plain": [
       "array([-0.9916917 , -0.98690279, -0.98317493, -0.98081014,  0.98081014,\n",
       "        0.98317493,  0.98690279,  0.9916917 ])"
      ]
     },
     "execution_count": 45,
     "metadata": {},
     "output_type": "execute_result"
    }
   ],
   "source": [
    "np.sort(energy(0, 0.01, 1.0, 2, 10)) # "
   ]
  },
  {
   "cell_type": "code",
   "execution_count": 46,
   "metadata": {
    "collapsed": false
   },
   "outputs": [],
   "source": [
    "def plot_energies(trange, mu, delta, W, L):\n",
    "\n",
    "    energies = []\n",
    "    \n",
    "    for t in trange:\n",
    "        \n",
    "        energies.append(np.sort(energy(delta, t, mu, W, L)))\n",
    "\n",
    "    pyplot.figure()\n",
    "    pyplot.plot(trange, energies)\n",
    "    pyplot.show()\n"
   ]
  },
  {
   "cell_type": "code",
   "execution_count": 48,
   "metadata": {
    "collapsed": false
   },
   "outputs": [
    {
     "data": {
      "image/png": "[encoded data removed]",
      "text/plain": [
       "<matplotlib.figure.Figure at 0x9f59e10>"
      ]
     },
     "metadata": {},
     "output_type": "display_data"
    }
   ],
   "source": [
    "trange = np.linspace(0.1, 2.0, 10)\n",
    "plot_energies(trange, 1., 1.0, 2, 100)#array of t's, mu, W, L"
   ]
  },
  {
   "cell_type": "code",
   "execution_count": null,
   "metadata": {
    "collapsed": true
   },
   "outputs": [],
   "source": []
  },
  {
   "cell_type": "code",
   "execution_count": null,
   "metadata": {
    "collapsed": true
   },
   "outputs": [],
   "source": []
  }
 ],
 "metadata": {
  "kernelspec": {
   "display_name": "Python 3",
   "language": "python",
   "name": "python3"
  },
  "language_info": {
   "codemirror_mode": {
    "name": "ipython",
    "version": 3
   },
   "file_extension": ".py",
   "mimetype": "text/x-python",
   "name": "python",
   "nbconvert_exporter": "python",
   "pygments_lexer": "ipython3",
   "version": "3.5.1"
  }
 },
 "nbformat": 4,
 "nbformat_minor": 0
}
