{
 "cells": [
  {
   "cell_type": "code",
   "execution_count": 67,
   "metadata": {
    "collapsed": false
    #Hamiltonian is borrowed from Liam's, as it accounts for phase shift. Zeeman terms have not yet been applied.
   },
   "outputs": [],
   "source": [
    "import kwant\n",
    "import matplotlib.pyplot as plt\n",
    "%matplotlib inline\n",
    "import scipy.sparse.linalg as sla\n",
    "import numpy as np\n",
    "import tinyarray\n",
    "import matplotlib.cm as cm"
   ]
  },
  {
   "cell_type": "code",
   "execution_count": 68,
   "metadata": {
    "collapsed": true
   },
   "outputs": [],
   "source": [
    "# Pauli matrices\n",
    "s0 = tinyarray.array([[1, 0], [0, 1]])\n",
    "sx = tinyarray.array([[0, 1], [1, 0]])\n",
    "sy = tinyarray.array([[0, -1j], [1j, 0]])\n",
    "sz = tinyarray.array([[1, 0], [0, -1]])"
   ]
  },
  {
   "cell_type": "code",
   "execution_count": 69,
   "metadata": {
    "collapsed": true
   },
   "outputs": [],
   "source": [
    "class SimpleNamespace(object):\n",
    "    \"\"\"A simple container for parameters.\"\"\"\n",
    "    def __init__(self, **kwargs):\n",
    "        self.__dict__.update(kwargs)"
   ]
  },
  {
   "cell_type": "code",
   "execution_count": 70,
   "metadata": {
    "collapsed": false
   },
   "outputs": [
    {
     "data": {
      "text/plain": [
       "'\\n Parameters:\\n    -----------\\n    a : natural. \\n        Lattice constant\\n    W : natural. \\n        Width of system in lattic points\\n    L : natural. \\n        Lenth of system in lattic points\\n    mu : real. \\n        Chemical potential\\n    delta : real. \\n        Superconducting gap\\n    Vx: real.\\n        Potential in x dir\\n    Phase: real.\\n        Phase of something???\\n'"
      ]
     },
     "execution_count": 70,
     "metadata": {},
     "output_type": "execute_result"
    }
   ],
   "source": [
    "#p = SimpleNamespace(d=1.0, t=1.0, dis=0, salt='', mu=1.9, \\\n",
    "                    #stripe_l=1.0, nrwires=13, gapratio=0.9)\n",
    "\"\"\"\n",
    " Parameters:\n",
    "    -----------\n",
    "    a : natural. \n",
    "        Lattice constant\n",
    "    W : natural. \n",
    "        Width of system in lattic points\n",
    "    L : natural. \n",
    "        Lenth of system in lattic points\n",
    "    mu : real. \n",
    "        Chemical potential\n",
    "    delta : real. \n",
    "        Superconducting gap\n",
    "    Vx: real.\n",
    "        Potential in x dir\n",
    "    Phase: real.\n",
    "        Phase of something???\n",
    "\"\"\"\n",
    "#p = SimpleNamespace(a = 1, W = 20, L = 20, mu = 1.0, delta = 1.0, attach_leads = True, Vx = 0., phase = 0)"
   ]
  },
  {
   "cell_type": "code",
   "execution_count": 71,
   "metadata": {
    "collapsed": true
   },
   "outputs": [],
   "source": [
    "#No Zeeman term is here; must add later\n",
    "\n",
    "def onsite_e(p):\n",
    "    \"\"\"Onsite Hamiltonian element for electrons\"\"\"\n",
    "    return ((1/p.a**2 - p.mu) * s0 + p.Vx * sx)\n",
    "\n",
    "def onsite_h(p):\n",
    "    \"\"\"Onsite Hamiltonian element for holes\"\"\"\n",
    "    return (- (1/p.a**2 - p.mu) * s0 + p.Vx * sx)\n",
    "\n",
    "def hop_horz(p):\n",
    "    \"\"\"\"Horizontal hopping Hamiltonian element\"\"\"\n",
    "    return ((1j * sy)/(2*p.a) - s0/(2 * p.a**2))\n",
    "\n",
    "def hop_vert(p):\n",
    "    \"\"\"\"Vertical hopping Hamiltonian element\"\"\"\n",
    "    return (-1j * sx/(2 * p.a) - s0/(2 * p.a**2))\n",
    "\n",
    "def theta(x):\n",
    "    \"\"\"\"Theta function: returns 1 for x >=0, and 0 for x < 0\"\"\"\n",
    "    if x >=1:\n",
    "        return (1)\n",
    "    else:\n",
    "        return (0)\n",
    "    \n",
    "def supercond(p, i):\n",
    "    left_supercond = p.delta * theta(p.a* i - p.L) * s0\n",
    "    right_supercond = p.delta *  theta(-p.a * i + p.L) * (np.cos(p.phase) - 1j * np.sin(p.phase)) * s0\n",
    "    return(left_supercond + right_supercond)    "
   ]
  },
  {
   "cell_type": "code",
   "execution_count": 72,
   "metadata": {
    "collapsed": false
   },
   "outputs": [],
   "source": [
    "axis_label_format = {'family' : 'normal',\n",
    "        'weight' : 'normal',\n",
    "        'size'   : 18}\n",
    "plt.rc('font', **axis_label_format)"
   ]
  },
  {
   "cell_type": "code",
   "execution_count": 73,
   "metadata": {
    "collapsed": false
   },
   "outputs": [],
   "source": [
    "def create_sys(p):\n",
    "    '''\n",
    "    Construct tight-binding model of Josephson Junctin.\n",
    "\n",
    "    Params:\n",
    "    --------\n",
    "    p: dict.\n",
    "        Arguments to initialize system properties.\n",
    "    \n",
    "    Return:\n",
    "    --------\n",
    "    sys:\n",
    "        Initialized system\n",
    "    \n",
    "    '''\n",
    "    #Create system\n",
    "    sys = kwant.Builder()\n",
    "\n",
    "    #Lattice Definitions\n",
    "    lat_e = kwant.lattice.square(p.a, name='e')\n",
    "    lat_h = kwant.lattice.square(p.a, name='h')\n",
    "    \n",
    "    #Set energies at each location in lattice\n",
    "    for i in range(p.L): #loop through states along length of system\n",
    "        for j in range(p.W): #loop through states along width of system\n",
    "            sys[lat_e(i,j)] = onsite_e(p)\n",
    "            sys[lat_h(i,j)] = onsite_h(p)\n",
    "            sys[(lat_e(i,j), lat_h(i,j))] = supercond(p, i)\n",
    "        \n",
    "        if i > 0:\n",
    "            sys[lat_e(i-1,j), lat_e(i,j)] =  hop_horz(p)\n",
    "            sys[lat_h(i-1,j), lat_h(i,j)] = -hop_horz(p)\n",
    "            \n",
    "        if j > 0:\n",
    "            sys[lat_e(i,j-1), lat_e(i,j)] =  hop_vert(p)\n",
    "            sys[lat_h(i,j-1), lat_h(i,j)] = -hop_vert(p)\n",
    "            \n",
    "    #Attach leads\n",
    "    sym_left_lead = kwant.TranslationalSymmetry((-p.a, 0))\n",
    "    sym_right_lead = kwant.TranslationalSymmetry((p.a, 0))\n",
    "\n",
    "    left_lead = kwant.Builder(sym_left_lead)\n",
    "    right_lead = kwant.Builder(sym_right_lead)\n",
    "   \n",
    "    for j in range(p.W):\n",
    "        left_lead[lat_e(0,j)]  = onsite_e(p)\n",
    "        right_lead[lat_e(0,j)] = onsite_e(p)\n",
    "        \n",
    "        left_lead[lat_h(0,j)]  = onsite_h(p)\n",
    "        right_lead[lat_h(0,j)] = onsite_h(p)\n",
    "        \n",
    "        if j > 0:\n",
    "            left_lead[lat_e(0,j-1), lat_e(0,j)]  = hop_vert(p)\n",
    "            right_lead[lat_e(0,j-1), lat_e(0,j)] = hop_vert(p)\n",
    "            \n",
    "            left_lead[lat_h(0,j-1), lat_h(0,j)]  = -hop_vert(p)\n",
    "            right_lead[lat_h(0,j-1), lat_h(0,j)] = -hop_vert(p)\n",
    "        \n",
    "        left_lead[lat_e(0,j), lat_e(1,j)]  = hop_horz(p)\n",
    "        right_lead[lat_e(0,j), lat_e(1,j)] = hop_horz(p)\n",
    "        \n",
    "        left_lead[lat_h(0,j), lat_h(1, j)] = -hop_horz(p)\n",
    "        right_lead[lat_h(0,j), lat_h(1,j)] = -hop_horz(p)\n",
    "    \n",
    "    if p.attach_leads:\n",
    "        sys.attach_lead(left_lead)\n",
    "        sys.attach_lead(right_lead)\n",
    "        \n",
    "    else:\n",
    "        print(\"Error attaching leads\")\n",
    "    \n",
    "    sys.finalized()\n",
    "    return sys   \n",
    "    \n",
    "    #ham_mat = sys.finalized().hamiltonian_submatrix(sparse=True)\n",
    "    #ev = sla.eigsh(ham_mat, k=8, which='SM', return_eigenvectors=False, maxiter = 1000000)\n",
    "    \n",
    "    #return ev"
   ]
  },
  {
   "cell_type": "code",
   "execution_count": 74,
   "metadata": {
    "collapsed": false
   },
   "outputs": [],
   "source": [
    "def compute_energies(sys):\n",
    "    #Compute energies\n",
    "    ham_mat = sys.finalized().hamiltonian_submatrix(sparse=True)\n",
    "    ev = sla.eigsh(ham_mat, k=8, which='SM', return_eigenvectors=False, maxiter = 1000000)\n",
    "    \n",
    "    return ev\n"
   ]
  },
  {
   "cell_type": "code",
   "execution_count": 75,
   "metadata": {
    "collapsed": false
   },
   "outputs": [],
   "source": [
    "def plot_energies(fig_num, lattice_const, width, length, chem_potential_range, pairing_potential, Zeeman_term, phase):\n",
    "    '''\n",
    "    Confirms system can support zero energy modes.\n",
    "    Plots energy versus a variable chemical potential (mu).\n",
    "    '''\n",
    "    energies = []\n",
    "\n",
    "    for mu in chem_potential_range:  \n",
    "        p = SimpleNamespace(a = lattice_const, \n",
    "                            W = width, \n",
    "                            L = length, \n",
    "                            mu = mu,\n",
    "                            delta = pairing_potential, \n",
    "                            attach_leads = True, \n",
    "                            Vx = Zeeman_term, \n",
    "                            phase = phase)\n",
    "        energies.append(np.sort(compute_energies(create_sys(p))))\n",
    "    \n",
    "    plt.figure(fig_num, figsize=(10, 10))\n",
    "    plt.title(\"Energy vs Chemical Potential\")\n",
    "    plt.plot(chem_potential_range, energies)\n",
    "    \n",
    "    plt.ylabel(\"Energy (eV)\", **axis_label_format)\n",
    "    plt.xlabel(\"Chemical Potential (eV/mol)\", **axis_label_format)\n",
    "    plt.show()\n",
    "    print(energies)"
   ]
  },
  {
   "cell_type": "code",
   "execution_count": 76,
   "metadata": {
    "collapsed": true
   },
   "outputs": [],
   "source": [
    "def phase_diagram(fig_num, a, L, W, s_eye, s_x, s_y, s_z, mu, delta, Vx_range):\n",
    "    '''\n",
    "    Plots a phase diagram of triviality vs. C_0. Mu and Vx remain constant while delta changes.\n",
    "    '''\n",
    "    C_arr = []\n",
    "    triviality = [] #Trivial (1); Non-trivial (2)\n",
    "  \n",
    "    for Vx in Vx_range:\n",
    "        min_ev = np.amin(np.absolute(energy(a, L, W, s_eye, s_x, s_y, s_z, mu, delta, Vx)))\n",
    "        print(min_ev)\n",
    "        \n",
    "        C_0 = mu**2 + delta**2 - Vx**2\n",
    "        C_arr.append(C_0)\n",
    "        \n",
    "        if min_ev < (10**(-11)): #C_0 > 0:\n",
    "            triviality.append(2)\n",
    "        \n",
    "        elif min_ev == (10**(-11)): #C_0 == 0:\n",
    "            triviality.append(1.5)\n",
    "        \n",
    "        else:\n",
    "            triviality.append(1)\n",
    "    \n",
    "    plt.figure(fig_num)\n",
    "    plt.scatter(C_arr, triviality) #Note that plt.plot is slightly slower than plt.scatter.\n",
    "    plt.draw()\n",
    "    \n",
    "    plt.ylabel(\"Non-Trivial = 2, Boundary = 1.5, Trivial = 1\")\n",
    "    plt.xlabel(\"C_0\")\n",
    "    plt.title(\"1D Phase Diagram: Triviality vs. Delta\", y = 1.0)"
   ]
  },
  {
   "cell_type": "code",
   "execution_count": 77,
   "metadata": {
    "collapsed": false,
    "scrolled": false
   },
   "outputs": [
    {
     "data": {
      "image/png": "iVBORw0KGgoAAAANSUhEUgAAApEAAAJ+CAYAAADrOVucAAAABHNCSVQICAgIfAhkiAAAAAlwSFlz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\nFRNKZBAEQRAEQVAx/w/6/S+UneX81wAAAABJRU5ErkJggg==\n",
      "text/plain": [
       "<matplotlib.figure.Figure at 0x19ab148a518>"
      ]
     },
     "metadata": {},
     "output_type": "display_data"
    },
    {
     "name": "stdout",
     "output_type": "stream",
     "text": [
      "[array([-1.00003649, -1.00003649, -1.00001371, -1.00001371,  1.00001371,\n",
      "        1.00001371,  1.00003649,  1.00003649]), array([-1.00002707, -1.00002707, -1.00001091, -1.00001091,  1.00001091,\n",
      "        1.00001091,  1.00002707,  1.00002707]), array([-1.00001895, -1.00001895, -1.00000196, -1.00000196,  1.00000196,\n",
      "        1.00000196,  1.00001895,  1.00001895]), array([-1.00000085, -1.00000085, -1.00000047, -1.00000047,  1.00000047,\n",
      "        1.00000047,  1.00000085,  1.00000085]), array([-1.01640619, -1.01640619, -1.01639261, -1.01639261,  1.01639261,\n",
      "        1.01639261,  1.01640619,  1.01640619]), array([-1.01640619, -1.01640619, -1.01639261, -1.01639261,  1.01639261,\n",
      "        1.01639261,  1.01640619,  1.01640619]), array([-1.00000085, -1.00000085, -1.00000047, -1.00000047,  1.00000047,\n",
      "        1.00000047,  1.00000085,  1.00000085]), array([-1.00001895, -1.00001895, -1.00000196, -1.00000196,  1.00000196,\n",
      "        1.00000196,  1.00001895,  1.00001895]), array([-1.00002707, -1.00002707, -1.00001091, -1.00001091,  1.00001091,\n",
      "        1.00001091,  1.00002707,  1.00002707]), array([-1.00003649, -1.00003649, -1.00001371, -1.00001371,  1.00001371,\n",
      "        1.00001371,  1.00003649,  1.00003649])]\n",
      "Wall time: 4min 17s\n"
     ]
    }
   ],
   "source": [
    "'''\n",
    "Trial 1 - Energy Plot (10x1)\n",
    "'''\n",
    "#System Parameters \n",
    "fig_num = 1\n",
    "lattice_const = 1\n",
    "width = 2\n",
    "length = 200\n",
    "chem_potential_range = np.linspace(0, 2, 10)\n",
    "pairing_potential = 1\n",
    "Zeeman_term = 0\n",
    "phase = 0\n",
    "\n",
    "%time plot_energies(fig_num, lattice_const, width, length, chem_potential_range, pairing_potential, Zeeman_term, phase)"
   ]
  }
 ],
 "metadata": {
  "kernelspec": {
   "display_name": "Python 3",
   "language": "python",
   "name": "python3"
  },
  "language_info": {
   "codemirror_mode": {
    "name": "ipython",
    "version": 3
   },
   "file_extension": ".py",
   "mimetype": "text/x-python",
   "name": "python",
   "nbconvert_exporter": "python",
   "pygments_lexer": "ipython3",
   "version": "3.5.1"
  }
 },
 "nbformat": 4,
 "nbformat_minor": 0
}
