{
 "cells": [
  {
   "cell_type": "code",
   "execution_count": 2,
   "metadata": {
    "collapsed": false
   },
   "outputs": [],
   "source": [
    "import kwant\n",
    "import matplotlib.pyplot as plt\n",
    "%matplotlib inline\n",
    "import scipy.sparse.linalg as sla\n",
    "import numpy as np\n",
    "import tinyarray\n",
    "import matplotlib.cm as cm"
   ]
  },
  {
   "cell_type": "code",
   "execution_count": 3,
   "metadata": {
    "collapsed": true
   },
   "outputs": [],
   "source": [
    "# Constants:\n",
    "sigma_0 = tinyarray.array([[1, 0], [0, 1]])\n",
    "sigma_x = tinyarray.array([[0, 1], [1, 0]])\n",
    "sigma_y = tinyarray.array([[0, -1j], [1j, 0]])\n",
    "sigma_z = tinyarray.array([[1, 0], [0, -1]])"
   ]
  },
  {
   "cell_type": "code",
   "execution_count": 4,
   "metadata": {
    "collapsed": true
   },
   "outputs": [],
   "source": [
    "def on_site(a, mu, Vx):\n",
    "    \"\"\"Onsite Hamiltonian element\"\"\"\n",
    "    return ((1/a**2 - mu) * sigma_0 + Vx * sigma_x)"
   ]
  },
  {
   "cell_type": "code",
   "execution_count": 5,
   "metadata": {
    "collapsed": true
   },
   "outputs": [],
   "source": [
    "def hop_horz(a):\n",
    "    \"\"\"\"Horizontal hopping Hamiltonian element\"\"\"\n",
    "    return ((1j * sigma_y)/(2*a) - sigma_0/(2 * a**2))"
   ]
  },
  {
   "cell_type": "code",
   "execution_count": 6,
   "metadata": {
    "collapsed": false
   },
   "outputs": [],
   "source": [
    "def hop_vert(a):\n",
    "    \"\"\"\"Vertical hopping Hamiltonian element\"\"\"\n",
    "    return (-1j * sigma_x/(2 * a) - sigma_0/(2 * a**2))"
   ]
  },
  {
   "cell_type": "code",
   "execution_count": 7,
   "metadata": {
    "collapsed": false
   },
   "outputs": [],
   "source": [
    "def theta(x):\n",
    "    \"\"\"\"Theta function: returns 1 for x >=0, and 0 for x < 0\"\"\"\n",
    "    if x >=1:\n",
    "        return (1)\n",
    "    else:\n",
    "        return (0)"
   ]
  },
  {
   "cell_type": "code",
   "execution_count": 8,
   "metadata": {
    "collapsed": true
   },
   "outputs": [],
   "source": [
    "def supercond(delta, a, i, L, phase):\n",
    "    left_supercond = delta * theta(a* i - L) * sigma_0\n",
    "    right_supercond = delta *  theta(-a * i + L) * (np.cos(phase) - 1j * np.sin(phase)) * sigma_0\n",
    "    return(left_supercond + right_supercond)\n",
    "    "
   ]
  },
  {
   "cell_type": "code",
   "execution_count": 9,
   "metadata": {
    "collapsed": false
   },
   "outputs": [],
   "source": [
    "#supercond(1., 2, 1, 20, 0)"
   ]
  },
  {
   "cell_type": "code",
   "execution_count": 10,
   "metadata": {
    "collapsed": false
   },
   "outputs": [],
   "source": [
    "def create_sys(a = 2, W = 20, L = 20, mu = 1.0, delta = 1.0, \\\n",
    "               mu_lead = 1.0, attach_leads = True, Vx = 0., phase = 0):\n",
    "    \"\"\"Construct a tight-binding model of a Josephson Junction.\n",
    "\n",
    "    Parameters:\n",
    "    -----------\n",
    "    a : natural. \n",
    "        Lattice constant\n",
    "    W : natural. \n",
    "        Width of system in lattic points\n",
    "    L : natural. \n",
    "        Lenth of system in lattic points\n",
    "    mu : real. \n",
    "        Chemical potential\n",
    "    delta : real. \n",
    "        Superconducting gap\n",
    "    mu_lead: real.\n",
    "        Chemical potential in lead\n",
    "    attach_leads: boolean.\n",
    "        Attaches leads if True\n",
    "    Vx: real.\n",
    "        Potential in x dir\n",
    "    Phase: real.\n",
    "        Phase of something???\n",
    "        \n",
    "    Returns:\n",
    "    --------\n",
    "    sys : <kwant.builder.FiniteSystem> object.\n",
    "        Finalized system.\n",
    "    \"\"\"\n",
    "    lat_e = kwant.lattice.square(a, name = 'e') #def e lat\n",
    "    lat_h = kwant.lattice.square(a, name = 'h') #def h lat\n",
    "    sys = kwant.Builder() \n",
    "    for i in range(L): #itter horiz over sys(0 to L-1)a\n",
    "        for j in range(W): #itter vert over sys (0 to W-1)\n",
    "            sys[lat_e(i, j)] =   on_site(a, mu, Vx)\n",
    "            sys[lat_h(i, j)] = - on_site(a, mu, -Vx) #holes negative e on-site energy, but Vx is the same\n",
    "            sys[(lat_e(i, j), lat_h(i, j))] = supercond(delta, a, i, L, phase)\n",
    "            if i > 0:\n",
    "                sys[(lat_e(i-1, j), lat_e(i, j))] =   hop_horz(a)\n",
    "                sys[(lat_h(i-1, j), lat_h(i, j))] = - hop_horz(a)\n",
    "            if j > 0:\n",
    "                sys[(lat_e(i, j-1), lat_e(i, j))] =   hop_vert(a)\n",
    "                sys[(lat_h(i, j-1), lat_h(i, j))] = - hop_vert(a)\n",
    "#Attach leads\n",
    "    sym_left_lead  = kwant.TranslationalSymmetry((-a, 0))\n",
    "    sym_right_lead = kwant.TranslationalSymmetry(( a, 0))\n",
    "    left_lead  = kwant.Builder(sym_left_lead)\n",
    "    right_lead = kwant.Builder(sym_right_lead)\n",
    "    \n",
    "    for j in range(W):\n",
    "        left_lead[ lat_e(0, j)] = on_site(a, mu_lead, 0)\n",
    "        right_lead[lat_e(0, j)] = on_site(a, mu_lead, 0)\n",
    "        left_lead[ lat_h(0, j)] = - on_site(a, mu_lead, 0)\n",
    "        right_lead[lat_h(0, j)] = - on_site(a, mu_lead, 0)\n",
    "        if j > 0:\n",
    "            left_lead[ lat_e(0, j - 1), lat_e(0, j)] = hop_vert(a)\n",
    "            right_lead[lat_e(0, j - 1), lat_e(0, j)] = hop_vert(a)\n",
    "            left_lead[ lat_h(0, j - 1), lat_h(0, j)] = - hop_vert(a)\n",
    "            right_lead[lat_h(0, j - 1), lat_h(0, j)] = - hop_vert(a)\n",
    "        left_lead[ lat_e(0, j), lat_e(1, j)] = hop_horz(a)        \n",
    "        right_lead[lat_e(0, j), lat_e(1, j)] = hop_horz(a)\n",
    "        left_lead[ lat_h(0, j), lat_h(1, j)] = - hop_horz(a)        \n",
    "        right_lead[lat_h(0, j), lat_h(1, j)] = - hop_horz(a)\n",
    "        \n",
    "    if attach_leads:  \n",
    "        sys.attach_lead(left_lead)\n",
    "        sys.attach_lead(right_lead)\n",
    "#Pass the finalized system to a solver\n",
    "    sys = sys.finalized()\n",
    "    return sys    "
   ]
  },
  {
   "cell_type": "code",
   "execution_count": 11,
   "metadata": {
    "collapsed": false
   },
   "outputs": [],
   "source": [
    "#kwant.plot(create_sys())"
   ]
  },
  {
   "cell_type": "code",
   "execution_count": 12,
   "metadata": {
    "collapsed": true
   },
   "outputs": [],
   "source": [
    "def plot_conductance(sys, energies):\n",
    "    # Compute conductance\n",
    "    data = []\n",
    "    for energy in energies:\n",
    "        smatrix = kwant.smatrix(sys, energy)\n",
    "        data.append(smatrix.transmission(1, 0))\n",
    "\n",
    "    plt.figure()\n",
    "    plt.plot(energies, data)\n",
    "    plt.xlabel(\"energy [t]\")\n",
    "    plt.ylabel(\"conductance [e^2/h]\")\n",
    "    plt.show()\n",
    "    "
   ]
  },
  {
   "cell_type": "code",
   "execution_count": 13,
   "metadata": {
    "collapsed": false
   },
   "outputs": [
    {
     "data": {
      "image/png": "[encoded data removed]",
      "text/plain": [
       "<matplotlib.figure.Figure at 0x5233588>"
      ]
     },
     "metadata": {},
     "output_type": "display_data"
    }
   ],
   "source": [
    "sys = create_sys(delta = 0.01)\n",
    "energies = np.linspace(-0.5, 0.5, 100)\n",
    "plot_conductance(sys, energies)"
   ]
  },
  {
   "cell_type": "code",
   "execution_count": 13,
   "metadata": {
    "collapsed": false
   },
   "outputs": [],
   "source": [
    "def get_detr(sys, energy):\n",
    "    \"\"\"Compute the determinant of the reflection block.\n",
    "\n",
    "    Parameters:\n",
    "    -----------\n",
    "    sys : <kwant.builder.FiniteSystem> object.\n",
    "        Finalized system, as returned by create_sys().\n",
    "\n",
    "    Returns:\n",
    "    --------\n",
    "    detr : real.\n",
    "        Determinant of the reflection block, assuming only two leads\n",
    "        are attached.\n",
    "    \"\"\"\n",
    "    smatrix = kwant.smatrix(sys, energy = energy)\n",
    "    n, m = smatrix.data.shape\n",
    "    rblock = np.asmatrix(smatrix.data[:n//2, :m//2])\n",
    "    detr = np.linalg.det(rblock)\n",
    "    return detr.real"
   ]
  },
  {
   "cell_type": "code",
   "execution_count": 14,
   "metadata": {
    "collapsed": true
   },
   "outputs": [],
   "source": [
    "def phase_diagram(murange, potentialrange):\n",
    "    phase_realisations = []\n",
    "    for i,potential in enumerate(potentialrange):\n",
    "        phase_realisations.append([])\n",
    "        for mu in murange:\n",
    "            detr = get_detr(create_sys(W = 1, delta = 0.2, Vx = potential, mu = mu, mu_lead=0.07, L=50), energy = 0) \n",
    "            if  0 <= detr <= 1 :                                                 \n",
    "                phase_realisations[i].append(1)\n",
    "            else:\n",
    "                phase_realisations[i].append(0)\n",
    "    plt.ylabel(\"Vx\")\n",
    "    plt.xlabel(\"Mu\")\n",
    "    plt.title(\"Phase diagram of Josephson Junction\", y = 1.04)\n",
    "    plt.imshow(phase_realisations, extent = (murange.min(), murange.max(), potentialrange.min(), \\\n",
    "                                      potentialrange.max()),cmap = cm.gist_yarg) \n",
    "    #topological phase is black"
   ]
  },
  {
   "cell_type": "code",
   "execution_count": 15,
   "metadata": {
    "collapsed": false
   },
   "outputs": [
    {
     "data": {
      "image/png": "[encoded data removed]",
      "text/plain": [
       "<matplotlib.figure.Figure at 0x4055d30>"
      ]
     },
     "metadata": {},
     "output_type": "display_data"
    }
   ],
   "source": [
    "murange = np.linspace(0.0, 0.1,10)\n",
    "potentialrange = np.linspace(0.0, 0.2, 10)\n",
    "phase_diagram(murange, potentialrange)"
   ]
  },
  {
   "cell_type": "code",
   "execution_count": 16,
   "metadata": {
    "collapsed": true
   },
   "outputs": [],
   "source": [
    "def energy(delta = 1.0, mu = 1.0):  \n",
    "    sys = create_sys(delta = delta, mu = mu, attach_leads = False)   \n",
    "    ham_mat = sys.hamiltonian_submatrix(sparse=True) # i think solves the hamiltonian\n",
    "    ev = sla.eigsh(ham_mat, k=8, which='SM', return_eigenvectors=False, maxiter=1000000) #which = what energy levels to return\n",
    "                                                # SM = smallest absolute value, i.e. closest to 0, maxiter = ???, k = 8 \n",
    "                                                #(number of eigenvalues we compute)\n",
    "    return ev #returns eigenvalues of system closest to zero"
   ]
  },
  {
   "cell_type": "code",
   "execution_count": 17,
   "metadata": {
    "collapsed": false
   },
   "outputs": [],
   "source": [
    "#np.sort(energy(delta = 0.14, mu = 0.))"
   ]
  },
  {
   "cell_type": "code",
   "execution_count": 18,
   "metadata": {
    "collapsed": true
   },
   "outputs": [],
   "source": [
    "def make_lead(a=1, t=1.0, W=10, mu = 1.0, Vx=0.):\n",
    "    # Start with an empty lead with a single square lattice\n",
    "    lat = kwant.lattice.square(a)\n",
    "\n",
    "    sym_lead = kwant.TranslationalSymmetry((-a, 0))\n",
    "    lead = kwant.Builder(sym_lead)\n",
    "\n",
    "    # build up one unit cell of the lead, and add the hoppings\n",
    "    # to the next unit cell\n",
    "    for j in range(W):\n",
    "        lead[lat(0, j)] = on_site(a, mu, Vx)\n",
    "\n",
    "        if j > 0:\n",
    "            lead[lat(0, j), lat(0, j - 1)] = hop_vert(a)\n",
    "\n",
    "        lead[lat(1, j), lat(0, j)] = hop_horz(a)\n",
    "\n",
    "    return lead"
   ]
  },
  {
   "cell_type": "code",
   "execution_count": 19,
   "metadata": {
    "collapsed": true
   },
   "outputs": [],
   "source": [
    "def band_structure():\n",
    "    lead = make_lead(mu = 0., W = 1, Vx=0.1).finalized()\n",
    "    kwant.plotter.bands(lead, show=False)\n",
    "    plt.xlabel(\"momentum [(lattice constant)^-1]\")\n",
    "    plt.ylabel(\"energy [t]\")\n",
    "    plt.show()\n",
    "    #this is band structure of lead, I think I want the sys"
   ]
  },
  {
   "cell_type": "code",
   "execution_count": 72,
   "metadata": {
    "collapsed": false,
    "scrolled": true
   },
   "outputs": [
    {
     "data": {
      "image/png": "[encoded data removed]",
      "text/plain": [
       "<matplotlib.figure.Figure at 0x9e4f978>"
      ]
     },
     "metadata": {},
     "output_type": "display_data"
    }
   ],
   "source": [
    "band_structure()"
   ]
  },
  {
   "cell_type": "code",
   "execution_count": 22,
   "metadata": {
    "collapsed": false
   },
   "outputs": [],
   "source": [
    "def evaluate_C0(murange, deltarange, potentialrange):\n",
    "    list_c0   = []\n",
    "    list_detr = []\n",
    "    for mu in murange:\n",
    "        for delta in deltarange:\n",
    "            for potential in potentialrange:\n",
    "                c0 = mu**2 + delta**2 - potential**2\n",
    "                detr = get_detr(create_sys(W = 1, delta = delta, Vx = potential, mu = mu, mu_lead=0.3), energy = 0)\n",
    "                list_c0.append(c0)\n",
    "                if  0 <= detr <= 1 :\n",
    "                    list_detr.append(1)\n",
    "                else:\n",
    "                    list_detr.append(0)\n",
    "                plt    \n",
    "    plt.ylabel(\"Topological = 1, Trivial = 0\")\n",
    "    plt.xlabel(\"C0\")\n",
    "    plt.title(\"Topological vs C0\", y = 1.04)\n",
    "    plt.scatter(list_c0, list_detr)\n",
    "    plt.show()\n",
    "    \n",
    "    "
   ]
  },
  {
   "cell_type": "code",
   "execution_count": 24,
   "metadata": {
    "collapsed": false
   },
   "outputs": [
    {
     "data": {
      "image/png": "[encoded data removed]",
      "text/plain": [
       "<matplotlib.figure.Figure at 0x8cd7080>"
      ]
     },
     "metadata": {},
     "output_type": "display_data"
    }
   ],
   "source": [
    "murange = np.linspace(-0.3, 0.3, 15)\n",
    "deltarange = np.linspace(-0.3, 0.3, 15)\n",
    "potentialrange = np.linspace(-0.3, 0.3, 15)\n",
    "evaluate_C0(murange, deltarange, potentialrange)"
   ]
  },
  {
   "cell_type": "code",
   "execution_count": 1,
   "metadata": {
    "collapsed": true
   },
   "outputs": [],
   "source": []
  },
  {
   "cell_type": "code",
   "execution_count": null,
   "metadata": {
    "collapsed": true
   },
   "outputs": [],
   "source": []
  }
 ],
 "metadata": {
  "kernelspec": {
   "display_name": "Python 3",
   "language": "python",
   "name": "python3"
  },
  "language_info": {
   "codemirror_mode": {
    "name": "ipython",
    "version": 3
   },
   "file_extension": ".py",
   "mimetype": "text/x-python",
   "name": "python",
   "nbconvert_exporter": "python",
   "pygments_lexer": "ipython3",
   "version": "3.5.1"
  }
 },
 "nbformat": 4,
 "nbformat_minor": 0
}
